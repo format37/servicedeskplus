{
 "cells": [
  {
   "cell_type": "code",
   "execution_count": 1,
   "id": "7b88a8ad",
   "metadata": {},
   "outputs": [],
   "source": [
    "# conda install -c conda-forge jira"
   ]
  },
  {
   "cell_type": "code",
   "execution_count": 2,
   "id": "5baae2d7",
   "metadata": {},
   "outputs": [],
   "source": [
    "from jira import JIRA\n",
    "import datetime"
   ]
  },
  {
   "cell_type": "code",
   "execution_count": 3,
   "id": "b910399c",
   "metadata": {},
   "outputs": [],
   "source": [
    "def jira_datetime_format(dt):\n",
    "    return str(dt.year)+'-'+str(dt.month).zfill(2)+'-'+str(dt.day).zfill(2)+'T'+str(dt.hour).zfill(2)+':'+str(dt.minute).zfill(2)+':'+str(dt.second).zfill(2)+'.'+str(int(dt.microsecond/1000)).zfill(3)+'+0300'"
   ]
  },
  {
   "cell_type": "code",
   "execution_count": 4,
   "id": "fd15a070",
   "metadata": {},
   "outputs": [],
   "source": [
    "def create_issue(jira, project,summary,description,accountId,issuetype,item):\n",
    "    \n",
    "    if '-Сервис' in item:\n",
    "        item='1С-Сервис'\n",
    "    # fields:\n",
    "    # https://developer.atlassian.com/server/jira/platform/jira-rest-api-version-2-tutorial-8946379/\n",
    "    issue_dict={\n",
    "        'project': project,\n",
    "        'issuetype': issuetype,\n",
    "        'components': [{'name': item}],\n",
    "        'summary': summary,\n",
    "        'description': description,\n",
    "        #'assignee': {'accountId': accountId}, # v3\n",
    "        'assignee': { # v2\n",
    "            'accountId': accountId,\n",
    "            'name': accountId\n",
    "        },\n",
    "        'duedate': jira_datetime_format(datetime.datetime.now()),\n",
    "    }\n",
    "    return jira.create_issue(fields=issue_dict)"
   ]
  },
  {
   "cell_type": "code",
   "execution_count": 5,
   "id": "64ef7bb0",
   "metadata": {},
   "outputs": [],
   "source": [
    "#jira_options = {'server': 'https://icebergproject.atlassian.net'}\n",
    "jira_options = {'server': 'http://10.2.4.14'}\n",
    "with open('jira.key','r') as key_file:\n",
    "    jira_key = key_file.read().replace('\\n', '')\n",
    "#jira_key = os.environ.get('JIRA_KEY', '')\n",
    "jira_user = 'yurasov@iceberg.ru'"
   ]
  },
  {
   "cell_type": "code",
   "execution_count": 6,
   "id": "feb5b7e3",
   "metadata": {},
   "outputs": [],
   "source": [
    "jira = JIRA(options=jira_options, basic_auth=(jira_user, jira_key))"
   ]
  },
  {
   "cell_type": "code",
   "execution_count": 7,
   "id": "33ebff77",
   "metadata": {},
   "outputs": [],
   "source": [
    "sdp_jira_accounts={\t\n",
    "'Юрасов Алексей Александрович':'yurasov@iceberg.ru',\n",
    "}"
   ]
  },
  {
   "cell_type": "code",
   "execution_count": 8,
   "id": "20cebad3",
   "metadata": {},
   "outputs": [],
   "source": [
    "sdp_jira_issue_types={\n",
    "    'Изменение':'Task',\n",
    "    #'Изменение':'Service',\n",
    "    'Информация':'Consultation',\n",
    "    'Инцидент':'Bug',\n",
    "    'Обслуживание':'Service',\n",
    "}"
   ]
  },
  {
   "cell_type": "code",
   "execution_count": 9,
   "id": "14a374d7",
   "metadata": {},
   "outputs": [],
   "source": [
    "summary = 'test'\n",
    "description = 'test description'\n",
    "technican = 'Юрасов Алексей Александрович'"
   ]
  },
  {
   "cell_type": "code",
   "execution_count": 10,
   "id": "0e76248e",
   "metadata": {},
   "outputs": [
    {
     "data": {
      "text/plain": [
       "'yurasov@iceberg.ru'"
      ]
     },
     "execution_count": 10,
     "metadata": {},
     "output_type": "execute_result"
    }
   ],
   "source": [
    "sdp_jira_accounts[technican]"
   ]
  },
  {
   "cell_type": "code",
   "execution_count": 11,
   "id": "26dec3b2",
   "metadata": {},
   "outputs": [],
   "source": [
    "issue=create_issue(\n",
    "    jira,\n",
    "    'DEV1CHELP', #'HELP1C',\n",
    "    summary,\n",
    "    description,\n",
    "    sdp_jira_accounts[technican],\n",
    "    sdp_jira_issue_types['Информация'],\n",
    "    '1С-Сервис'\n",
    ")"
   ]
  },
  {
   "cell_type": "code",
   "execution_count": 12,
   "id": "9db5762e",
   "metadata": {},
   "outputs": [
    {
     "data": {
      "text/plain": [
       "<JIRA Issue: key='DEV1CHELP-12932', id='30823'>"
      ]
     },
     "execution_count": 12,
     "metadata": {},
     "output_type": "execute_result"
    }
   ],
   "source": [
    "issue"
   ]
  }
 ],
 "metadata": {
  "kernelspec": {
   "display_name": "Python (ml03)",
   "language": "python",
   "name": "myenv"
  },
  "language_info": {
   "codemirror_mode": {
    "name": "ipython",
    "version": 3
   },
   "file_extension": ".py",
   "mimetype": "text/x-python",
   "name": "python",
   "nbconvert_exporter": "python",
   "pygments_lexer": "ipython3",
   "version": "3.9.7"
  }
 },
 "nbformat": 4,
 "nbformat_minor": 5
}
